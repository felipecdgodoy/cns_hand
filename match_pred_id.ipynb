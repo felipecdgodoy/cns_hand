{
 "cells": [
  {
   "cell_type": "code",
   "execution_count": 4,
   "metadata": {},
   "outputs": [],
   "source": [
    "import numpy as np\n",
    "import torch\n",
    "import pickle\n",
    "import io\n",
    "import warnings\n",
    "warnings.filterwarnings('ignore')\n",
    "\n",
    "MODEL_ARGS = (0.1, 5, 0.0, 2, 0.0, 5) # learning rate - epochs - lambda - batch size - weight decay - num folds\n",
    "NUM_FOLDS = 5\n",
    "\n",
    "class CPU_Unpickler(pickle.Unpickler):\n",
    "    def find_class(self, module, name):\n",
    "        if module == 'torch.storage' and name == '_load_from_bytes':\n",
    "            return lambda b: torch.load(io.BytesIO(b), map_location='cpu')\n",
    "        else:\n",
    "            return super().find_class(module, name)\n",
    "        \n",
    "def get_gender_accuracy(fold):\n",
    "    # collect the ids, labels, and predictions for matching\n",
    "    with open('matched_patients.pickle', 'rb') as f:\n",
    "        df = pickle.load(f)\n",
    "    with open(f'ids_pidn_fold_{fold}_{MODEL_ARGS}.pickle', 'rb') as f:\n",
    "        ids = torch.tensor(pickle.load(f))\n",
    "    with open(f'labels_fold_{fold}_{MODEL_ARGS}.pickle', 'rb') as f:\n",
    "        labels = CPU_Unpickler(f).load()\n",
    "        labels = torch.tensor(np.vstack(labels))\n",
    "    with open(f'final_preds_fold_{fold}_{MODEL_ARGS}.pickle', 'rb') as f:\n",
    "        preds = CPU_Unpickler(f).load()\n",
    "        preds = torch.tensor(np.vstack(preds))\n",
    "    # flatten from pairs to individual ids\n",
    "    ids = ids.reshape((-1, 1))\n",
    "    preds = preds.reshape((-1, 2))\n",
    "    labels = labels.reshape((-1, 2))\n",
    "    # prepare df for matching\n",
    "    df = df.set_index('id')\n",
    "    df = df.drop(columns={'filename', 'image'})\n",
    "    # fix only on IDs present in the fold --AND APPLY CORRECT ORDERING!\n",
    "    df = df.loc[list(ids.numpy().flatten())]\n",
    "    # store predictions + labels, and boolean flag for prediction correctness\n",
    "    df['pred'] = list(preds.numpy().round(4))\n",
    "    df['label'] = list(labels.numpy().astype(int))\n",
    "    df['correct'] = [(df['pred'].values[i].round() == df['label'].values[i]).all() for i in range(len(df))]\n",
    "    original_acc = df['correct'].sum() / df['correct'].count()\n",
    "    # create gender aggregation and compute accuracy over gender\n",
    "    df = df.groupby('gender').agg({'correct':'mean'})\n",
    "    df.columns = [f'Fold {fold} - Accuracy']\n",
    "    df.loc['combined'] = [original_acc]\n",
    "    df = df.round(4)\n",
    "    print(df)\n",
    "    return df"
   ]
  },
  {
   "cell_type": "code",
   "execution_count": 5,
   "metadata": {},
   "outputs": [
    {
     "name": "stdout",
     "output_type": "stream",
     "text": [
      "          Fold 0 - Accuracy\n",
      "gender                     \n",
      "0                    0.3026\n",
      "1                    0.1071\n",
      "combined             0.2500\n",
      "          Fold 1 - Accuracy\n",
      "gender                     \n",
      "0                    0.3371\n",
      "1                    0.0000\n",
      "combined             0.2885\n",
      "          Fold 2 - Accuracy\n",
      "gender                     \n",
      "0                    0.4176\n",
      "1                    0.0000\n",
      "combined             0.3654\n",
      "          Fold 3 - Accuracy\n",
      "gender                     \n",
      "0                    0.3133\n",
      "1                    0.0952\n",
      "combined             0.2692\n",
      "          Fold 4 - Accuracy\n",
      "gender                     \n",
      "0                    0.3784\n",
      "1                    0.1786\n",
      "combined             0.3235\n"
     ]
    }
   ],
   "source": [
    "for fold in range(NUM_FOLDS):\n",
    "    get_gender_accuracy(fold)"
   ]
  },
  {
   "cell_type": "code",
   "execution_count": null,
   "metadata": {},
   "outputs": [],
   "source": []
  }
 ],
 "metadata": {
  "kernelspec": {
   "display_name": "kai",
   "language": "python",
   "name": "python3"
  },
  "language_info": {
   "codemirror_mode": {
    "name": "ipython",
    "version": 3
   },
   "file_extension": ".py",
   "mimetype": "text/x-python",
   "name": "python",
   "nbconvert_exporter": "python",
   "pygments_lexer": "ipython3",
   "version": "3.10.12"
  }
 },
 "nbformat": 4,
 "nbformat_minor": 2
}
